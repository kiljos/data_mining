{
 "cells": [
  {
   "cell_type": "code",
   "execution_count": null,
   "id": "709dcfcd",
   "metadata": {},
   "outputs": [],
   "source": []
  },
  {
   "cell_type": "code",
   "execution_count": null,
   "id": "052ccd5d",
   "metadata": {},
   "outputs": [],
   "source": [
    "\n",
    "df = pd.read_csv(\"auto_data_cleaned_16_09_2024.csv\")\n",
    "\n",
    "# the models will be encoded by mean value of price of every model\n",
    "target_encoder = ce.TargetEncoder(cols=['model'])\n",
    "df['Modell_encoded'] = target_encoder.fit_transform(df['model'], df['price_in_euro'])  # 'Preis' ist die Zielvariable\n",
    "\n",
    "\n",
    "# the brand will be encoded by mean value of price of every model\n",
    "target_encoder = ce.TargetEncoder(cols=['brand'])\n",
    "df['Brand_encoded'] = target_encoder.fit_transform(df['brand'], df['price_in_euro'])  # 'Preis' ist die Zielvariable\n",
    "\n",
    "df=df.drop(columns=['year', 'offer_description', ])\n",
    "\n",
    "df = pd.get_dummies(df, columns=[ 'fuel_type', 'transmission_type','color'], dtype='int')\n",
    "df.info()"
   ]
  },
  {
   "cell_type": "code",
   "execution_count": null,
   "id": "c2453ce9",
   "metadata": {},
   "outputs": [],
   "source": []
  },
  {
   "cell_type": "code",
   "execution_count": null,
   "id": "25a37f15",
   "metadata": {},
   "outputs": [],
   "source": []
  }
 ],
 "metadata": {
  "language_info": {
   "name": "python"
  }
 },
 "nbformat": 4,
 "nbformat_minor": 5
}
