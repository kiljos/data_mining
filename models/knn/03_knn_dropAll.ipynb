{
 "cells": [
  {
   "cell_type": "code",
   "execution_count": 2,
   "id": "8768d5e6",
   "metadata": {},
   "outputs": [],
   "source": [
    "\n",
    "from Preprocessing.DropAll_preprocessing_pipeline import preprocessing_pipeline\n",
    "\n"
   ]
  },
  {
   "cell_type": "code",
   "execution_count": null,
   "id": "042b0bd6",
   "metadata": {},
   "outputs": [],
   "source": [
    "numeric_columns = ['power_ps', 'fuel_consumption_l_100km', 'mileage_in_km', 'age']\n",
    "for col in numeric_columns:\n",
    "    df[col] = pd.to_numeric(df[col], errors='coerce')\n",
    "    if df[col].isnull().any():\n",
    "        print(f\"Warning: Column {col} contains non-numeric values after conversion.\")\n",
    "\n",
    "df['price_in_euro'] = pd.to_numeric(df['price_in_euro'], errors='coerce')\n",
    "if df['price_in_euro'].isnull().any():\n",
    "    print(f\"Warning: price_in_euro contains {df['price_in_euro'].isnull().sum()} non-numeric values after conversion.\")\n",
    "    df = df.dropna(subset=['price_in_euro'])"
   ]
  },
  {
   "cell_type": "code",
   "execution_count": null,
   "id": "93159a84",
   "metadata": {},
   "outputs": [],
   "source": [
    "y = pd.to_numeric(y, errors='coerce')\n",
    "y_train = pd.to_numeric(y_train, errors='coerce')\n",
    "y_test = pd.to_numeric(y_test, errors='coerce')\n",
    "\n",
    "if y_train.isnull().any():\n",
    "    print(f\"Warning: {y_train.isnull().sum()} non-numeric values found in y_train and removed.\")\n",
    "    valid_indices = y_train[~y_train.isnull()].index\n",
    "    X_train = X_train.loc[valid_indices]\n",
    "    y_train = y_train[~y_train.isnull()]\n",
    "\n",
    "if y_test.isnull().any():\n",
    "    print(f\"Warning: {y_test.isnull().sum()} non-numeric values found in y_test and removed.\")\n",
    "    valid_indices = y_test[~y_test.isnull()].index\n",
    "    X_test = X_test.loc[valid_indices]\n",
    "    y_test = y_test[~y_test.isnull()]"
   ]
  },
  {
   "cell_type": "code",
   "execution_count": null,
   "id": "b9fe62a8",
   "metadata": {},
   "outputs": [
    {
     "name": "stdout",
     "output_type": "stream",
     "text": [
      "\n",
      "Training KNN model ...\n",
      "KNN Regression Performance Metrics:\n",
      "MAE: 3842.21\n",
      "MSE: 150416436.67\n",
      "RMSE: 12264.44\n",
      "R²: 0.85\n",
      "------------------------------\n",
      "KNN Regression Performance Metrics:\n",
      "MAE: 3842.21\n",
      "MSE: 150416436.67\n",
      "RMSE: 12264.44\n",
      "R²: 0.85\n",
      "------------------------------\n"
     ]
    },
    {
     "data": {
      "text/plain": [
       "23"
      ]
     },
     "execution_count": 6,
     "metadata": {},
     "output_type": "execute_result"
    }
   ],
   "source": [
    "\n",
    "numeric_transformer = Pipeline(steps=[\n",
    "    ('imputer', SimpleImputer(strategy='median')),\n",
    "    ('scaler', StandardScaler())\n",
    "])\n",
    "\n",
    "categorical_transformer = Pipeline(steps=[\n",
    "    ('imputer', SimpleImputer(strategy='most_frequent')),\n",
    "    ('ordinal', OrdinalEncoder(handle_unknown='use_encoded_value', unknown_value=-1)),\n",
    "])\n",
    "\n",
    "preprocessor = ColumnTransformer(\n",
    "    transformers=[\n",
    "        ('num', numeric_transformer, numeric_features),\n",
    "        ('cat', categorical_transformer, categorical_features)\n",
    "    ])\n",
    "\n",
    "\n",
    "\n",
    "final_knn_pipeline = Pipeline(steps=[\n",
    "    ('preprocessor', preprocessor),\n",
    "    ('model', KNeighborsRegressor(\n",
    "        n_neighbors=4,\n",
    "        weights='distance',  \n",
    "        algorithm='auto',\n",
    "        p = 2,\n",
    "        n_jobs=-1  \n",
    "    ))\n",
    "])\n",
    "\n",
    "\n",
    "print(\"\\nTraining KNN model ...\")\n",
    "final_knn_pipeline.fit(X_train, y_train)\n",
    "\n",
    "y_pred_knn = final_knn_pipeline.predict(X_test)\n",
    "\n",
    "evaluate_model(y_test, y_pred_knn, \"KNN Regression\")\n",
    "\n",
    "\n",
    "gc.collect()\n",
    "\n",
    "\n"
   ]
  },
  {
   "cell_type": "code",
   "execution_count": null,
   "id": "9a7259e2",
   "metadata": {},
   "outputs": [],
   "source": [
    "# Configure feature transformers\n",
    "numeric_transformer = Pipeline(steps=[\n",
    "    ('imputer', SimpleImputer(strategy='median')),\n",
    "    ('scaler', StandardScaler())\n",
    "])\n",
    "\n",
    "categorical_transformer = Pipeline(steps=[\n",
    "    ('imputer', SimpleImputer(strategy='most_frequent')),\n",
    "    ('ordinal', OrdinalEncoder(handle_unknown='use_encoded_value', unknown_value=-1)),\n",
    "])\n",
    "\n",
    "# Create the column transformer\n",
    "preprocessor = ColumnTransformer(\n",
    "    transformers=[\n",
    "        ('num', numeric_transformer, numeric_features),\n",
    "        ('cat', categorical_transformer, categorical_features)\n",
    "    ])\n",
    "\n",
    "# Set number of CPU cores to use\n",
    "n_jobs = min(4, max(1, os.cpu_count() or 2))  # Limit to max 4 threads\n",
    "\n",
    "# Create the KNN pipeline\n",
    "final_knn_pipeline = Pipeline(steps=[\n",
    "    ('preprocessor', preprocessor),\n",
    "    ('model', KNeighborsRegressor(\n",
    "        n_neighbors=4,\n",
    "        weights='distance',\n",
    "        algorithm='auto',\n",
    "        p=2,  # Euclidean distance\n",
    "        n_jobs=n_jobs\n",
    "    ))\n",
    "])"
   ]
  },
  {
   "cell_type": "code",
   "execution_count": null,
   "id": "dc458979",
   "metadata": {},
   "outputs": [],
   "source": [
    "# Train and evaluate the model\n",
    "try:\n",
    "    print(\"\\nTraining KNN model...\")\n",
    "    with warnings.catch_warnings():\n",
    "        warnings.simplefilter(\"ignore\")\n",
    "        final_knn_pipeline.fit(X_train, y_train)\n",
    "    \n",
    "    print(\"Making predictions...\")\n",
    "    y_pred_knn = final_knn_pipeline.predict(X_test)\n",
    "    \n",
    "    print(\"\\nModel Evaluation:\")\n",
    "    metrics = evaluate_model(y_test, y_pred_knn, \"KNN Regression\")\n",
    "    \n",
    "    print(\"\\nGenerating visualization...\")\n",
    "    scatter_prediction(y_test, y_pred_knn, \"KNN Regression\")\n",
    "    \n",
    "except Exception as e:\n",
    "    print(f\"Error during model training or evaluation: {str(e)}\")\n",
    "finally:\n",
    "    # Clean up memory\n",
    "    gc.collect()\n",
    "    print(\"Memory cleaned up.\")"
   ]
  },
  {
   "cell_type": "markdown",
   "id": "87e18493",
   "metadata": {},
   "source": [
    "## Model Comparison\n",
    "\n",
    "The standard KNN model with ordinal encoding for categorical features performs well for car price prediction.\n",
    "However, for improved performance, consider:\n",
    "\n",
    "1. Using semantic embeddings (as in `04_knn_embeddings.ipynb`)\n",
    "2. Further feature engineering\n",
    "3. Hyperparameter tuning for optimal `n_neighbors` and distance metrics"
   ]
  }
 ],
 "metadata": {
  "kernelspec": {
   "display_name": ".venv",
   "language": "python",
   "name": "python3"
  },
  "language_info": {
   "codemirror_mode": {
    "name": "ipython",
    "version": 3
   },
   "file_extension": ".py",
   "mimetype": "text/x-python",
   "name": "python",
   "nbconvert_exporter": "python",
   "pygments_lexer": "ipython3",
   "version": "3.11.9"
  }
 },
 "nbformat": 4,
 "nbformat_minor": 5
}
