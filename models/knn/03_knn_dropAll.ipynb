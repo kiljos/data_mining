{
 "cells": [
  {
   "cell_type": "code",
   "execution_count": null,
   "id": "29235c49",
   "metadata": {},
   "outputs": [],
   "source": [
    "import os\n",
    "import pandas as pd\n",
    "import numpy as np\n",
    "import matplotlib.pyplot as plt\n",
    "from sklearn.preprocessing import StandardScaler, OneHotEncoder, OrdinalEncoder\n",
    "from sklearn.compose import ColumnTransformer\n",
    "from sklearn.pipeline import Pipeline\n",
    "from sklearn.impute import SimpleImputer\n",
    "from sklearn.neighbors import KNeighborsRegressor\n",
    "\n",
    "from sklearn.model_selection import GridSearchCV\n",
    "import gc  # Garbage Collector zur Speicherverwaltung\n",
    "import sys\n",
    "\n",
    "\n",
    "sys.path.append(os.path.abspath(\"../../\"))\n",
    "\n",
    "from utils.scatter_plot import scatter_prediction\n",
    "from utils.eval_call import evaluate_model\n",
    "\n",
    "from Preprocessing.split import split_data\n",
    "from Preprocessing.DropAll_preprocessing_pipeline import preprocessing_pipeline\n",
    "\n",
    "\n",
    "\n",
    "df = pd.read_csv('../../data.csv')\n",
    "\n",
    "#df.info()"
   ]
  },
  {
   "cell_type": "code",
   "execution_count": 3,
   "id": "6b2db724",
   "metadata": {},
   "outputs": [],
   "source": [
    "df=preprocessing_pipeline(df)"
   ]
  },
  {
   "cell_type": "code",
   "execution_count": 4,
   "id": "0f7e5c05",
   "metadata": {},
   "outputs": [],
   "source": [
    "X_train, X_test, y_train, y_test , X,y, categorical_features , numeric_features = split_data(df)"
   ]
  },
  {
   "cell_type": "code",
   "execution_count": 6,
   "id": "b9fe62a8",
   "metadata": {},
   "outputs": [
    {
     "name": "stdout",
     "output_type": "stream",
     "text": [
      "\n",
      "Training KNN model ...\n",
      "KNN Regression Performance Metrics:\n",
      "MAE: 3842.21\n",
      "MSE: 150416436.67\n",
      "RMSE: 12264.44\n",
      "R²: 0.85\n",
      "------------------------------\n",
      "KNN Regression Performance Metrics:\n",
      "MAE: 3842.21\n",
      "MSE: 150416436.67\n",
      "RMSE: 12264.44\n",
      "R²: 0.85\n",
      "------------------------------\n"
     ]
    },
    {
     "data": {
      "text/plain": [
       "23"
      ]
     },
     "execution_count": 6,
     "metadata": {},
     "output_type": "execute_result"
    }
   ],
   "source": [
    "\n",
    "numeric_transformer = Pipeline(steps=[\n",
    "    ('imputer', SimpleImputer(strategy='median')),\n",
    "    ('scaler', StandardScaler())  # Scaling is crucial for KNN\n",
    "])\n",
    "\n",
    "categorical_transformer = Pipeline(steps=[\n",
    "    ('imputer', SimpleImputer(strategy='most_frequent')),\n",
    "    ('ordinal', OrdinalEncoder(handle_unknown='use_encoded_value', unknown_value=-1)),\n",
    "])\n",
    "\n",
    "preprocessor = ColumnTransformer(\n",
    "    transformers=[\n",
    "        ('num', numeric_transformer, numeric_features),\n",
    "        ('cat', categorical_transformer, categorical_features)\n",
    "    ])\n",
    "\n",
    "\n",
    "\n",
    "final_knn_pipeline = Pipeline(steps=[\n",
    "    ('preprocessor', preprocessor),\n",
    "    ('model', KNeighborsRegressor(\n",
    "        n_neighbors=4,\n",
    "        weights='distance',  \n",
    "        algorithm='auto',\n",
    "        p = 2, #Power parameter for the Minkowski metric. When p = 1, this is equivalent to using manhattan_distance (l1), and euclidean_distance (l2) for p = 2. For arbitrary p, minkowski_distance (l_p) is used.\n",
    "        n_jobs=-1  \n",
    "    ))\n",
    "])\n",
    "\n",
    "\n",
    "print(\"\\nTraining KNN model ...\")\n",
    "final_knn_pipeline.fit(X_train, y_train)\n",
    "\n",
    "# Make predictions\n",
    "y_pred_knn = final_knn_pipeline.predict(X_test)\n",
    "\n",
    "# Evaluate model\n",
    "evaluate_model(y_test, y_pred_knn, \"KNN Regression\")\n",
    "\n",
    "\n",
    "# Clean up memory\n",
    "gc.collect()\n",
    "\n",
    "\n"
   ]
  },
  {
   "cell_type": "code",
   "execution_count": null,
   "id": "3c609ac8",
   "metadata": {},
   "outputs": [],
   "source": []
  }
 ],
 "metadata": {
  "kernelspec": {
   "display_name": ".venv",
   "language": "python",
   "name": "python3"
  },
  "language_info": {
   "codemirror_mode": {
    "name": "ipython",
    "version": 3
   },
   "file_extension": ".py",
   "mimetype": "text/x-python",
   "name": "python",
   "nbconvert_exporter": "python",
   "pygments_lexer": "ipython3",
   "version": "3.11.9"
  }
 },
 "nbformat": 4,
 "nbformat_minor": 5
}
