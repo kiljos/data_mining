{
 "cells": [
  {
   "cell_type": "code",
   "execution_count": 1,
   "id": "5ff6ac01",
   "metadata": {},
   "outputs": [],
   "source": [
    "import pandas as pd\n",
    "import numpy as np\n",
    "import os\n",
    "import sys\n",
    "import warnings\n",
    "\n",
    "from sklearn.preprocessing import StandardScaler, OneHotEncoder, OrdinalEncoder\n",
    "from sklearn.compose import ColumnTransformer, TransformedTargetRegressor\n",
    "from sklearn.pipeline import Pipeline\n",
    "from sklearn.impute import SimpleImputer\n",
    "from sklearn.neighbors import KNeighborsRegressor\n",
    "from sklearn.base import BaseEstimator, TransformerMixin\n",
    "from sklearn.decomposition import PCA\n",
    "\n",
    "import gc\n",
    "\n",
    "warnings.filterwarnings('ignore', category=UserWarning)\n",
    "\n",
    "sys.path.append(os.path.abspath(\"../..\"))\n",
    "\n",
    "from utils.scatter_plot import scatter_prediction\n",
    "from utils.eval_call import evaluate_model\n",
    "\n",
    "from Preprocessing.imputation import get_imputation_maps, apply_imputation,ContextImputer\n",
    "from Preprocessing.LrFilter_preprocessing import preprocessing_pipeline\n",
    "from Preprocessing.preprocessing_pipeline_segment import preprocessing_pipeline_segment\n",
    "from Preprocessing.split import split_data\n"
   ]
  },
  {
   "cell_type": "code",
   "execution_count": 2,
   "id": "715c9413",
   "metadata": {},
   "outputs": [],
   "source": [
    "class SemanticCategoricalEmbedder(BaseEstimator, TransformerMixin):\n",
    "    def __init__(self, embedding_dim=5, embedding_method='target_guided'):\n",
    "        self.embedding_dim = embedding_dim\n",
    "        self.embedding_method = embedding_method\n",
    "        self.embeddings = {}\n",
    "        self.category_stats = {}\n",
    "        self.feature_names = None\n",
    "        \n",
    "    def fit(self, X, y=None):\n",
    "        self.feature_names = X.columns.tolist() if hasattr(X, 'columns') else None\n",
    "        \n",
    "        X_array = np.asarray(X)\n",
    "        \n",
    "        for col_idx in range(X_array.shape[1]):\n",
    "            feature_name = self.feature_names[col_idx] if self.feature_names else col_idx\n",
    "            unique_values = np.unique(X_array[:, col_idx])\n",
    "            \n",
    "            self.embeddings[col_idx] = {}\n",
    "            self.category_stats[col_idx] = {}\n",
    "            \n",
    "            if self.embedding_method == 'random':\n",
    "                for value in unique_values:\n",
    "                    self.embeddings[col_idx][value] = np.random.normal(0, 1, self.embedding_dim)\n",
    "            \n",
    "            elif self.embedding_method == 'target_guided' and y is not None:\n",
    "                for value in unique_values:\n",
    "                    value_mask = X_array[:, col_idx] == value\n",
    "                    if np.sum(value_mask) > 0:\n",
    "                        target_mean = np.mean(y[value_mask])\n",
    "                        target_std = np.std(y[value_mask]) if np.sum(value_mask) > 1 else 1.0\n",
    "                        count = np.sum(value_mask)\n",
    "                        \n",
    "                        self.category_stats[col_idx][value] = {\n",
    "                            'mean': target_mean,\n",
    "                            'std': target_std,\n",
    "                            'count': count\n",
    "                        }\n",
    "                        \n",
    "                        embedding = np.zeros(self.embedding_dim)\n",
    "                        embedding[0] = target_mean / 100000.0\n",
    "                        embedding[1] = np.log1p(count) / 10.0\n",
    "                        embedding[2] = target_std / 50000.0\n",
    "                        \n",
    "                        if self.embedding_dim > 3:\n",
    "                            embedding[3:] = np.random.normal(0, 0.1, self.embedding_dim - 3)\n",
    "                            \n",
    "                        self.embeddings[col_idx][value] = embedding\n",
    "                    else:\n",
    "                        self.embeddings[col_idx][value] = np.zeros(self.embedding_dim)\n",
    "            \n",
    "            elif self.embedding_method == 'frequency':\n",
    "                value_counts = {val: np.sum(X_array[:, col_idx] == val) for val in unique_values}\n",
    "                total_count = sum(value_counts.values())\n",
    "                \n",
    "                for value in unique_values:\n",
    "                    frequency = value_counts[value] / total_count if total_count > 0 else 0\n",
    "                    embedding = np.zeros(self.embedding_dim)\n",
    "                    embedding[0] = frequency\n",
    "                    if self.embedding_dim > 1:\n",
    "                        embedding[1:] = np.random.normal(0, frequency, self.embedding_dim - 1)\n",
    "                    self.embeddings[col_idx][value] = embedding\n",
    "            \n",
    "            else:\n",
    "                for value in unique_values:\n",
    "                    self.embeddings[col_idx][value] = np.random.normal(0, 1, self.embedding_dim)\n",
    "        \n",
    "        return self\n",
    "        \n",
    "    def transform(self, X):\n",
    "        X_array = np.asarray(X)\n",
    "        result = np.zeros((X_array.shape[0], X_array.shape[1] * self.embedding_dim))\n",
    "        \n",
    "        for col_idx in range(X_array.shape[1]):\n",
    "            for row_idx in range(X_array.shape[0]):\n",
    "                value = X_array[row_idx, col_idx]\n",
    "                if value in self.embeddings[col_idx]:\n",
    "                    embedding = self.embeddings[col_idx][value]\n",
    "                else:\n",
    "                    embedding = np.zeros(self.embedding_dim)\n",
    "                \n",
    "                start_idx = col_idx * self.embedding_dim\n",
    "                end_idx = start_idx + self.embedding_dim\n",
    "                result[row_idx, start_idx:end_idx] = embedding\n",
    "                \n",
    "        return result"
   ]
  },
  {
   "cell_type": "code",
   "execution_count": 3,
   "id": "12d19db5",
   "metadata": {},
   "outputs": [],
   "source": [
    "# Load and preprocess data using the new LR filter preprocessing pipeline\n",
    "print(\"Loading and preprocessing data...\")\n",
    "data_path = '../../data.csv'\n",
    "df = preprocessing_pipeline(pd.read_csv(data_path))\n",
    "print(f\"Data shape after preprocessing: {df.shape}\")\n",
    "\n",
    "# Split data for training\n",
    "X_train, X_test, y_train, y_test, X, y, categorical_features, numeric_features = split_data(df)\n",
    "\n",
    "print(f\"Training set: {X_train.shape}, Test set: {X_test.shape}\")\n",
    "print(f\"Number of categorical features: {len(categorical_features)}\")\n",
    "print(f\"Number of numeric features: {len(numeric_features)}\")"
   ]
  },
  {
   "cell_type": "code",
   "execution_count": 4,
   "id": "aee52e6b",
   "metadata": {},
   "outputs": [
    {
     "name": "stdout",
     "output_type": "stream",
     "text": [
      "Categorical features: ['brand', 'model', 'color', 'transmission_type', 'fuel_type']\n"
     ]
    }
   ],
   "source": [
    "print(\"Categorical features:\", categorical_features)"
   ]
  },
  {
   "cell_type": "code",
   "execution_count": 5,
   "id": "0ae4965e",
   "metadata": {},
   "outputs": [
    {
     "name": "stdout",
     "output_type": "stream",
     "text": [
      "Numeric features: ['year', 'power_ps', 'fuel_consumption_l_100km', 'mileage_in_km']\n"
     ]
    }
   ],
   "source": [
    "print(\"Numeric features:\", numeric_features)"
   ]
  },
  {
   "cell_type": "code",
   "execution_count": 6,
   "id": "50d25f45",
   "metadata": {},
   "outputs": [],
   "source": [
    "# Define embedding parameters\n",
    "embedding_dim = 8\n",
    "embedding_method = 'target_guided'"
   ]
  },
  {
   "cell_type": "code",
   "execution_count": 7,
   "id": "ef535cdb",
   "metadata": {},
   "outputs": [],
   "source": [
    "# Set up transformers for numeric and categorical features\n",
    "numeric_transformer = Pipeline(steps=[\n",
    "    ('imputer', SimpleImputer(strategy='median')),\n",
    "    ('scaler', StandardScaler())\n",
    "])\n",
    "\n",
    "# Use semantic embeddings for categorical features\n",
    "categorical_transformer = Pipeline(steps=[\n",
    "    ('imputer', SimpleImputer(strategy='most_frequent')),\n",
    "    ('embedder', SemanticCategoricalEmbedder(embedding_dim=embedding_dim, embedding_method=embedding_method))\n",
    "])\n",
    "\n",
    "# Create the column transformer\n",
    "preprocessor = ColumnTransformer(\n",
    "    transformers=[\n",
    "        ('num', numeric_transformer, numeric_features),\n",
    "        ('cat', categorical_transformer, categorical_features)\n",
    "    ])\n",
    "\n",
    "# Set number of CPU cores to use\n",
    "n_jobs = min(4, max(1, os.cpu_count() or 2))  # Limit to max 4 threads\n",
    "\n",
    "# Create the KNN pipeline\n",
    "knn_pipeline = Pipeline(steps=[\n",
    "    ('preprocessor', preprocessor),\n",
    "    ('model', KNeighborsRegressor(\n",
    "        n_neighbors=4,\n",
    "        weights='distance',  \n",
    "        algorithm='auto',\n",
    "        p=2,  # Euclidean distance\n",
    "        n_jobs=n_jobs\n",
    "    ))\n",
    "])"
   ]
  },
  {
   "cell_type": "code",
   "execution_count": 8,
   "id": "80aa1290",
   "metadata": {},
   "outputs": [
    {
     "name": "stdout",
     "output_type": "stream",
     "text": [
      "\n",
      "Training KNN model with semantic embeddings...\n"
     ]
    },
    {
     "name": "stderr",
     "output_type": "stream",
     "text": [
      "c:\\Users\\kilia\\Desktop\\MA_Master\\Vorlesung_S5\\DataMining\\proj\\proj\\.venv\\Lib\\site-packages\\sklearn\\pipeline.py:62: FutureWarning: This Pipeline instance is not fitted yet. Call 'fit' with appropriate arguments before using other methods such as transform, predict, etc. This will raise an error in 1.8 instead of the current warning.\n",
      "  warnings.warn(\n",
      "Exception in thread Thread-4 (_readerthread):\n",
      "Traceback (most recent call last):\n",
      "  File \"C:\\Users\\kilia\\AppData\\Local\\Programs\\Python\\Python311\\Lib\\threading.py\", line 1045, in _bootstrap_inner\n",
      "    self.run()\n",
      "  File \"c:\\Users\\kilia\\Desktop\\MA_Master\\Vorlesung_S5\\DataMining\\proj\\proj\\.venv\\Lib\\site-packages\\ipykernel\\ipkernel.py\", line 766, in run_closure\n",
      "    _threading_Thread_run(self)\n",
      "  File \"C:\\Users\\kilia\\AppData\\Local\\Programs\\Python\\Python311\\Lib\\threading.py\", line 982, in run\n",
      "    self._target(*self._args, **self._kwargs)\n",
      "  File \"C:\\Users\\kilia\\AppData\\Local\\Programs\\Python\\Python311\\Lib\\subprocess.py\", line 1599, in _readerthread\n",
      "    buffer.append(fh.read())\n",
      "                  ^^^^^^^^^\n",
      "  File \"C:\\Users\\kilia\\AppData\\Local\\Programs\\Python\\Python311\\Lib\\encodings\\cp1252.py\", line 23, in decode\n",
      "    return codecs.charmap_decode(input,self.errors,decoding_table)[0]\n",
      "           ^^^^^^^^^^^^^^^^^^^^^^^^^^^^^^^^^^^^^^^^^^^^^^^^^^^^^^^\n",
      "UnicodeDecodeError: 'charmap' codec can't decode byte 0x81 in position 3: character maps to <undefined>\n",
      "  File \"c:\\Users\\kilia\\Desktop\\MA_Master\\Vorlesung_S5\\DataMining\\proj\\proj\\.venv\\Lib\\site-packages\\joblib\\externals\\loky\\backend\\context.py\", line 282, in _count_physical_cores\n",
      "    raise ValueError(f\"found {cpu_count_physical} physical cores < 1\")\n"
     ]
    },
    {
     "name": "stdout",
     "output_type": "stream",
     "text": [
      "KNN with Semantic Embeddings Performance Metrics:\n",
      "MAE: 3438.02\n",
      "MSE: 92317908.88\n",
      "RMSE: 9608.22\n",
      "R²: 0.91\n",
      "------------------------------\n"
     ]
    },
    {
     "data": {
      "image/png": "[encoded data removed]",
      "text/plain": [
       "<Figure size 600x400 with 1 Axes>"
      ]
     },
     "metadata": {},
     "output_type": "display_data"
    }
   ],
   "source": [
    "# Train and evaluate the model\n",
    "try:\n",
    "    print(\"\\nTraining KNN model with semantic embeddings...\")\n",
    "    with warnings.catch_warnings():\n",
    "        warnings.simplefilter(\"ignore\")\n",
    "        knn_pipeline.fit(X_train, y_train)\n",
    "    \n",
    "    print(\"Making predictions...\")\n",
    "    y_pred_knn = knn_pipeline.predict(X_test)\n",
    "    \n",
    "    print(\"\\nModel Evaluation:\")\n",
    "    metrics = evaluate_model(y_test, y_pred_knn, \"KNN with Semantic Embeddings\")\n",
    "    \n",
    "    print(\"\\nGenerating visualization...\")\n",
    "    scatter_prediction(y_test, y_pred_knn, \"KNN with Semantic Embeddings\")\n",
    "    \n",
    "except Exception as e:\n",
    "    print(f\"Error during model training or evaluation: {str(e)}\")\n",
    "finally:\n",
    "    # Clean up memory\n",
    "    gc.collect()\n",
    "    print(\"Memory cleaned up.\")"
   ]
  },
  {
   "cell_type": "markdown",
   "id": "d55c7477",
   "metadata": {},
   "source": [
    "## Model Analysis\n",
    "\n",
    "The KNN model with semantic embeddings uses the following key components:\n",
    "\n",
    "1. **LR-Filter Preprocessing**: Advanced data cleaning including linear regression for outlier detection\n",
    "2. **Semantic Categorical Embeddings**: Target-guided embeddings that encode price relationships\n",
    "3. **Feature Importance**: Price information is encoded in the first dimension of embeddings\n",
    "\n",
    "The model's performance depends on both the quality of the preprocessing and the embedding dimensions used."
   ]
  },
  {
   "cell_type": "code",
   "execution_count": null,
   "id": "9c45a36b",
   "metadata": {},
   "outputs": [],
   "source": [
    "# Explore the embeddings for key brands\n",
    "def explore_brand_embeddings():\n",
    "    try:\n",
    "        embedder = knn_pipeline.named_steps['preprocessor'].transformers_[1][1].named_steps['embedder']\n",
    "        \n",
    "        # Get the brand index in categorical features\n",
    "        brand_idx = categorical_features.index('brand')\n",
    "        \n",
    "        # Get brand embeddings and stats\n",
    "        brand_embeddings = embedder.embeddings[brand_idx]\n",
    "        brand_stats = embedder.category_stats[brand_idx]\n",
    "        \n",
    "        # Select premium and economy brands to compare\n",
    "        premium_brands = ['porsche', 'mercedes-benz', 'bmw', 'audi']\n",
    "        economy_brands = ['dacia', 'fiat', 'kia', 'seat']\n",
    "        \n",
    "        print(\"\\nPremium Brands - Average Price and Embedding First Dimension:\")\n",
    "        for brand in premium_brands:\n",
    "            if brand in brand_stats:\n",
    "                avg_price = brand_stats[brand]['mean']\n",
    "                embedding_val = brand_embeddings[brand][0]\n",
    "                print(f\"{brand}: Avg Price: €{avg_price:.2f}, Embedding[0]: {embedding_val:.4f}\")\n",
    "        \n",
    "        print(\"\\nEconomy Brands - Average Price and Embedding First Dimension:\")\n",
    "        for brand in economy_brands:\n",
    "            if brand in brand_stats:\n",
    "                avg_price = brand_stats[brand]['mean']\n",
    "                embedding_val = brand_embeddings[brand][0]\n",
    "                print(f\"{brand}: Avg Price: €{avg_price:.2f}, Embedding[0]: {embedding_val:.4f}\")\n",
    "    except Exception as e:\n",
    "        print(f\"Error exploring embeddings: {str(e)}\")\n",
    "\n",
    "# Run the exploration function\n",
    "explore_brand_embeddings()"
   ]
  },
  {
   "cell_type": "code",
   "execution_count": null,
   "id": "356e9965",
   "metadata": {},
   "outputs": [],
   "source": []
  }
 ],
 "metadata": {
  "kernelspec": {
   "display_name": ".venv",
   "language": "python",
   "name": "python3"
  },
  "language_info": {
   "codemirror_mode": {
    "name": "ipython",
    "version": 3
   },
   "file_extension": ".py",
   "mimetype": "text/x-python",
   "name": "python",
   "nbconvert_exporter": "python",
   "pygments_lexer": "ipython3",
   "version": "3.11.9"
  }
 },
 "nbformat": 4,
 "nbformat_minor": 5
}
