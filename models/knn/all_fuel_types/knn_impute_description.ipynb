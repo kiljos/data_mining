{
 "cells": [
  {
   "cell_type": "code",
   "execution_count": 1,
   "id": "d30cae50",
   "metadata": {},
   "outputs": [],
   "source": [
    "import pandas as pd\n",
    "import numpy as np\n",
    "import pandas\n",
    "from sklearn.preprocessing import StandardScaler, OneHotEncoder, OrdinalEncoder\n",
    "from sklearn.compose import ColumnTransformer, TransformedTargetRegressor\n",
    "from sklearn.pipeline import Pipeline\n",
    "from sklearn.impute import SimpleImputer\n",
    "from sklearn.neighbors import KNeighborsRegressor\n",
    "\n",
    "\n",
    "import sys\n",
    "import os\n",
    "\n",
    "sys.path.append(os.path.abspath(\"../../..\"))\n",
    "\n",
    "from Preprocessing.imputation import get_imputation_maps, apply_imputation, ContextImputer\n",
    "\n",
    "from Preprocessing.split_new import split_data\n",
    "\n",
    "from utils.scatter_plot import scatter_prediction\n",
    "from utils.eval_call import evaluate_model"
   ]
  },
  {
   "cell_type": "code",
   "execution_count": 2,
   "id": "338c2798",
   "metadata": {},
   "outputs": [
    {
     "ename": "TypeError",
     "evalue": "split_data() got an unexpected keyword argument 'description'",
     "output_type": "error",
     "traceback": [
      "\u001b[31m---------------------------------------------------------------------------\u001b[39m",
      "\u001b[31mTypeError\u001b[39m                                 Traceback (most recent call last)",
      "\u001b[36mCell\u001b[39m\u001b[36m \u001b[39m\u001b[32mIn[2]\u001b[39m\u001b[32m, line 52\u001b[39m\n\u001b[32m     44\u001b[39m         results_df = pd.DataFrame({\n\u001b[32m     45\u001b[39m             \u001b[33m'\u001b[39m\u001b[33mfuel_type\u001b[39m\u001b[33m'\u001b[39m: X_test[\u001b[33m'\u001b[39m\u001b[33mfuel_type\u001b[39m\u001b[33m'\u001b[39m].values,\n\u001b[32m     46\u001b[39m             \u001b[33m'\u001b[39m\u001b[33my_true\u001b[39m\u001b[33m'\u001b[39m: y_test.values,\n\u001b[32m     47\u001b[39m             \u001b[33m'\u001b[39m\u001b[33my_pred\u001b[39m\u001b[33m'\u001b[39m: y_pred_knn\n\u001b[32m     48\u001b[39m         })\n\u001b[32m     51\u001b[39m \u001b[38;5;28;01mif\u001b[39;00m \u001b[34m__name__\u001b[39m == \u001b[33m\"\u001b[39m\u001b[33m__main__\u001b[39m\u001b[33m\"\u001b[39m:\n\u001b[32m---> \u001b[39m\u001b[32m52\u001b[39m     \u001b[43mmain\u001b[49m\u001b[43m(\u001b[49m\u001b[43m)\u001b[49m\n",
      "\u001b[36mCell\u001b[39m\u001b[36m \u001b[39m\u001b[32mIn[2]\u001b[39m\u001b[32m, line 4\u001b[39m, in \u001b[36mmain\u001b[39m\u001b[34m()\u001b[39m\n\u001b[32m      1\u001b[39m \u001b[38;5;28;01mdef\u001b[39;00m\u001b[38;5;250m \u001b[39m\u001b[34mmain\u001b[39m():\n\u001b[32m----> \u001b[39m\u001b[32m4\u001b[39m     X_train, X_test, y_train, y_test, categorical_features , numeric_features = \u001b[43msplit_data\u001b[49m\u001b[43m(\u001b[49m\u001b[33;43m'\u001b[39;49m\u001b[33;43m../../../data.csv\u001b[39;49m\u001b[33;43m'\u001b[39;49m\u001b[43m,\u001b[49m\u001b[43m \u001b[49m\u001b[43mdescription\u001b[49m\u001b[43m \u001b[49m\u001b[43m=\u001b[49m\u001b[43m \u001b[49m\u001b[38;5;28;43;01mTrue\u001b[39;49;00m\u001b[43m)\u001b[49m\n\u001b[32m      6\u001b[39m     \u001b[38;5;66;03m# Preprocessing-Pipelines erstellen\u001b[39;00m\n\u001b[32m      7\u001b[39m     numeric_transformer = Pipeline(steps=[\n\u001b[32m      8\u001b[39m         (\u001b[33m'\u001b[39m\u001b[33mimputer\u001b[39m\u001b[33m'\u001b[39m, SimpleImputer(strategy=\u001b[33m'\u001b[39m\u001b[33mmedian\u001b[39m\u001b[33m'\u001b[39m)),\n\u001b[32m      9\u001b[39m         (\u001b[33m'\u001b[39m\u001b[33mscaler\u001b[39m\u001b[33m'\u001b[39m, StandardScaler())\n\u001b[32m     10\u001b[39m     ])\n",
      "\u001b[31mTypeError\u001b[39m: split_data() got an unexpected keyword argument 'description'"
     ]
    }
   ],
   "source": [
    "def main():\n",
    "\n",
    "\n",
    "    X_train, X_test, y_train, y_test, categorical_features , numeric_features = split_data('../../../data.csv', description = True)\n",
    "\n",
    "    # Preprocessing-Pipelines erstellen\n",
    "    numeric_transformer = Pipeline(steps=[\n",
    "        ('imputer', SimpleImputer(strategy='median')),\n",
    "        ('scaler', StandardScaler())\n",
    "    ])\n",
    "\n",
    "    categorical_transformer = Pipeline(steps=[\n",
    "        ('imputer', SimpleImputer(strategy='most_frequent')),\n",
    "        ('onehot', OneHotEncoder(handle_unknown='ignore'))\n",
    "    ])\n",
    "\n",
    "    preprocessor = ColumnTransformer(\n",
    "        transformers=[\n",
    "            ('num', numeric_transformer, numeric_features),\n",
    "            ('cat', categorical_transformer, categorical_features)\n",
    "        ])\n",
    "    \n",
    "    knn_pipeline = Pipeline(steps=[\n",
    "        ('imp_fc', ContextImputer('fuel_consumption_l_100km')),\n",
    "        ('imp_ps', ContextImputer('power_ps')),\n",
    "        ('imp_er', ContextImputer('electric_range')),\n",
    "        ('preprocessor', preprocessor),\n",
    "        ('model', KNeighborsRegressor())\n",
    "    ])\n",
    "\n",
    "    # Modell trainieren\n",
    "    knn_pipeline.fit(X_train, y_train)\n",
    "\n",
    "    # Vorhersagen treffen\n",
    "    y_pred_knn = knn_pipeline.predict(X_test)\n",
    "\n",
    "\n",
    "\n",
    "    evaluate_model(y_test, y_pred_knn, \"KNN Regression\")\n",
    "    scatter_prediction(y_test, y_pred_knn, \"KNN Regression\")\n",
    "\n",
    "    # Prüfe, ob fuel_type in X_test enthalten ist\n",
    "    if 'fuel_type' in X_test.columns:\n",
    "        results_df = pd.DataFrame({\n",
    "            'fuel_type': X_test['fuel_type'].values,\n",
    "            'y_true': y_test.values,\n",
    "            'y_pred': y_pred_knn\n",
    "        })\n",
    "\n",
    "\n",
    "if __name__ == \"__main__\":\n",
    "    main()"
   ]
  }
 ],
 "metadata": {
  "kernelspec": {
   "display_name": "data_mining_project",
   "language": "python",
   "name": "python3"
  },
  "language_info": {
   "codemirror_mode": {
    "name": "ipython",
    "version": 3
   },
   "file_extension": ".py",
   "mimetype": "text/x-python",
   "name": "python",
   "nbconvert_exporter": "python",
   "pygments_lexer": "ipython3",
   "version": "3.11.11"
  }
 },
 "nbformat": 4,
 "nbformat_minor": 5
}
