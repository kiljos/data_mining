{
 "cells": [
  {
   "cell_type": "code",
   "execution_count": null,
   "id": "d30cae50",
   "metadata": {},
   "outputs": [],
   "source": [
    "import pandas as pd\n",
    "import numpy as np\n",
    "\n",
    "from sklearn.preprocessing import StandardScaler, OneHotEncoder, OrdinalEncoder\n",
    "from sklearn.compose import ColumnTransformer\n",
    "from sklearn.pipeline import Pipeline\n",
    "from sklearn.impute import SimpleImputer\n",
    "from sklearn.neighbors import KNeighborsRegressor\n",
    "import pandas\n",
    "\n",
    "import sys\n",
    "import os\n",
    "\n",
    "import sys\n",
    "import os\n",
    "sys.path.append(os.path.abspath(\"../../..\"))\n",
    "\n",
    "from utils.scatter_plot import scatter_prediction\n",
    "from utils.eval_call import evaluate_model\n",
    "\n",
    "from Preprocessing.imputation import get_imputation_maps, apply_imputation, ContextImputer\n",
    "\n",
    "from Preprocessing.split_new import split_data\n",
    "from utils.eval_call import evaluate_model"
   ]
  },
  {
   "cell_type": "code",
   "execution_count": null,
   "id": "a986206f",
   "metadata": {},
   "outputs": [
    {
     "name": "stdout",
     "output_type": "stream",
     "text": [
      "Performing k-fold cross-validation...\n"
     ]
    },
    {
     "name": "stderr",
     "output_type": "stream",
     "text": [
      "/Users/I746572/Desktop/bro/.venv/lib/python3.13/site-packages/sklearn/neighbors/_base.py:598: UserWarning: cannot use tree with sparse input: using brute force\n",
      "  warnings.warn(\"cannot use tree with sparse input: using brute force\")\n",
      "/Users/I746572/Desktop/bro/.venv/lib/python3.13/site-packages/sklearn/neighbors/_base.py:598: UserWarning: cannot use tree with sparse input: using brute force\n",
      "  warnings.warn(\"cannot use tree with sparse input: using brute force\")\n",
      "/Users/I746572/Desktop/bro/.venv/lib/python3.13/site-packages/sklearn/neighbors/_base.py:598: UserWarning: cannot use tree with sparse input: using brute force\n",
      "  warnings.warn(\"cannot use tree with sparse input: using brute force\")\n",
      "/Users/I746572/Desktop/bro/.venv/lib/python3.13/site-packages/sklearn/neighbors/_base.py:598: UserWarning: cannot use tree with sparse input: using brute force\n",
      "  warnings.warn(\"cannot use tree with sparse input: using brute force\")\n",
      "/Users/I746572/Desktop/bro/.venv/lib/python3.13/site-packages/sklearn/neighbors/_base.py:598: UserWarning: cannot use tree with sparse input: using brute force\n",
      "  warnings.warn(\"cannot use tree with sparse input: using brute force\")\n"
     ]
    },
    {
     "name": "stdout",
     "output_type": "stream",
     "text": [
      "Cross-validation MAE scores: [4046.76845422 3745.64830733 3852.77486792 3701.29469684 3783.05084732]\n",
      "Mean MAE: 3825.91, Std: 121.09\n",
      "\n",
      "Detailed metrics:\n",
      "MAE: 3825.91\n",
      "MSE: 360110295.41\n",
      "RMSE: 17769.48\n",
      "R²: 0.7679\n"
     ]
    },
    {
     "name": "stderr",
     "output_type": "stream",
     "text": [
      "[Parallel(n_jobs=1)]: Done   5 out of   5 | elapsed: 12.7min finished\n"
     ]
    }
   ],
   "source": [
    "from sklearn.model_selection import KFold, cross_validate\n",
    "import numpy as np\n",
    "\n",
    "X_train, X_test, y_train, y_test, categorical_features , numeric_features = split_data('../../../data.csv')\n",
    "\n",
    "\n",
    "\n",
    "import pandas as pd\n",
    "\n",
    "X = pd.concat([X_train, X_test])\n",
    "y = pd.concat([y_train, y_test])\n",
    "\n",
    "\n",
    "\n",
    "# Preprocessing-Pipelines erstellen\n",
    "numeric_transformer = Pipeline(steps=[\n",
    "    ('imputer', SimpleImputer(strategy='median')),\n",
    "    ('scaler', StandardScaler())\n",
    "])\n",
    "\n",
    "categorical_transformer = Pipeline(steps=[\n",
    "    ('imputer', SimpleImputer(strategy='most_frequent')),\n",
    "    ('onehot', OneHotEncoder(handle_unknown='ignore'))\n",
    "])\n",
    "\n",
    "preprocessor = ColumnTransformer(\n",
    "    transformers=[\n",
    "        ('num', numeric_transformer, numeric_features),\n",
    "        ('cat', categorical_transformer, categorical_features)\n",
    "    ])\n",
    "\n",
    "\n",
    "knn_pipeline = Pipeline(steps=[\n",
    "    ('imp_fc', ContextImputer('fuel_consumption_l_100km')),\n",
    "    ('imp_ps', ContextImputer('power_ps')),\n",
    "    ('imp_er', ContextImputer('electric_range')),\n",
    "    ('preprocessor', preprocessor),\n",
    "    ('model', KNeighborsRegressor(\n",
    "        n_neighbors=6,\n",
    "        weights='distance',  \n",
    "        algorithm='ball_tree',\n",
    "        p = 2, #Power parameter for the Minkowski metric. When p = 1, this is equivalent to using manhattan_distance (l1), and euclidean_distance (l2) for p = 2. For arbitrary p, minkowski_distance (l_p) is used.\n",
    "        n_jobs=-1 \n",
    "              ))\n",
    "])\n",
    "\n",
    "\n",
    "print(\"Performing k-fold cross-validation...\")\n",
    "k_folds = 5\n",
    "cv = KFold(n_splits=k_folds, shuffle=True, random_state=42)\n",
    "\n",
    "\n",
    "scoring = {\n",
    "    'mae': 'neg_mean_absolute_error',\n",
    "    'mse': 'neg_mean_squared_error',\n",
    "    'r2': 'r2'\n",
    "}\n",
    "\n",
    "cv_results = cross_validate(knn_pipeline, X, y, cv=cv, \n",
    "                           scoring=scoring, verbose=1)\n",
    "\n",
    "\n",
    "mae_scores = -cv_results['test_mae']\n",
    "mse_scores = -cv_results['test_mse']\n",
    "rmse_scores = np.sqrt(mse_scores)\n",
    "r2_scores = cv_results['test_r2']\n",
    "\n",
    "\n",
    "print(f\"Cross-validation MAE scores: {mae_scores}\")\n",
    "print(f\"Mean MAE: {mae_scores.mean():.2f}, Std: {mae_scores.std():.2f}\")\n",
    "\n",
    "\n",
    "print(\"\\nDetailed metrics:\")\n",
    "print(f\"MAE: {mae_scores.mean():.2f}\")\n",
    "print(f\"MSE: {mse_scores.mean():.2f}\")\n",
    "print(f\"RMSE: {rmse_scores.mean():.2f}\")\n",
    "print(f\"R²: {r2_scores.mean():.4f}\")\n",
    "\n",
    "\n",
    "#"
   ]
  }
 ],
 "metadata": {
  "kernelspec": {
   "display_name": ".venv",
   "language": "python",
   "name": "python3"
  },
  "language_info": {
   "codemirror_mode": {
    "name": "ipython",
    "version": 3
   },
   "file_extension": ".py",
   "mimetype": "text/x-python",
   "name": "python",
   "nbconvert_exporter": "python",
   "pygments_lexer": "ipython3",
   "version": "3.13.3"
  }
 },
 "nbformat": 4,
 "nbformat_minor": 5
}
