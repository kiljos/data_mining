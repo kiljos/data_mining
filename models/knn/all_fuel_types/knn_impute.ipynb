{
 "cells": [
  {
   "cell_type": "code",
   "execution_count": null,
   "id": "d30cae50",
   "metadata": {},
   "outputs": [],
   "source": [
    "import pandas as pd\n",
    "import numpy as np\n",
    "\n",
    "from sklearn.preprocessing import StandardScaler, OneHotEncoder, OrdinalEncoder\n",
    "from sklearn.compose import ColumnTransformer\n",
    "from sklearn.pipeline import Pipeline\n",
    "from sklearn.impute import SimpleImputer\n",
    "from sklearn.neighbors import KNeighborsRegressor\n",
    "\n",
    "\n",
    "import sys\n",
    "import os\n",
    "\n",
    "import sys\n",
    "import os\n",
    "sys.path.append(os.path.abspath(\"../../..\"))\n",
    "\n",
    "from utils.scatter_plot import scatter_prediction\n",
    "from utils.eval_call import evaluate_model\n",
    "\n",
    "from Preprocessing.imputation import get_imputation_maps, apply_imputation, ContextImputer\n",
    "\n",
    "from Preprocessing.split_new import split_data\n",
    "from utils.eval_call import evaluate_model"
   ]
  },
  {
   "cell_type": "code",
   "execution_count": null,
   "id": "a986206f",
   "metadata": {},
   "outputs": [
    {
     "name": "stdout",
     "output_type": "stream",
     "text": [
      "Linear Regression Performance Metrics:\n",
      "MAE: 5782.26\n",
      "MSE: 1033302101.07\n",
      "RMSE: 32145.02\n",
      "R²: 0.51\n",
      "------------------------------\n"
     ]
    }
   ],
   "source": [
    "def main():\n",
    "\n",
    "\n",
    "    X_train, X_test, y_train, y_test, categorical_features , numeric_features = split_data('../../../data.csv')\n",
    "\n",
    "    # Preprocessing-Pipelines erstellen\n",
    "    numeric_transformer = Pipeline(steps=[\n",
    "        ('imputer', SimpleImputer(strategy='median')),\n",
    "        ('scaler', StandardScaler())\n",
    "    ])\n",
    "\n",
    "    categorical_transformer = Pipeline(steps=[\n",
    "        ('imputer', SimpleImputer(strategy='most_frequent')),\n",
    "        ('onehot', OneHotEncoder(handle_unknown='ignore'))\n",
    "    ])\n",
    "\n",
    "    preprocessor = ColumnTransformer(\n",
    "        transformers=[\n",
    "            ('num', numeric_transformer, numeric_features),\n",
    "            ('cat', categorical_transformer, categorical_features)\n",
    "        ])\n",
    "\n",
    "\n",
    "    knn_pipeline = Pipeline(steps=[\n",
    "        ('imp_fc', ContextImputer('fuel_consumption_l_100km')),\n",
    "        ('imp_ps', ContextImputer('power_ps')),\n",
    "        ('imp_er', ContextImputer('electric_range')),\n",
    "        ('preprocessor', preprocessor),\n",
    "        ('model', KNeighborsRegressor())\n",
    "    ])\n",
    "\n",
    "    # Modell trainieren\n",
    "    knn_pipeline.fit(X_train, y_train)\n",
    "\n",
    "    # Vorhersagen treffen\n",
    "    y_pred_knn = knn_pipeline.predict(X_test)\n",
    "\n",
    "\n",
    "\n",
    "    evaluate_model(y_test, y_pred_knn, \"KNN Regression\")\n",
    "    scatter_prediction(y_test, y_pred_knn, \"KNN Regression\")\n",
    "\n",
    "\n",
    "\n",
    "if __name__ == \"__main__\":\n",
    "    main()"
   ]
  }
 ],
 "metadata": {
  "kernelspec": {
   "display_name": "data_mining_project",
   "language": "python",
   "name": "python3"
  },
  "language_info": {
   "codemirror_mode": {
    "name": "ipython",
    "version": 3
   },
   "file_extension": ".py",
   "mimetype": "text/x-python",
   "name": "python",
   "nbconvert_exporter": "python",
   "pygments_lexer": "ipython3",
   "version": "3.11.11"
  }
 },
 "nbformat": 4,
 "nbformat_minor": 5
}
