{
 "cells": [
  {
   "cell_type": "code",
   "execution_count": 6,
   "id": "d30cae50",
   "metadata": {},
   "outputs": [],
   "source": [
    "import pandas as pd\n",
    "import numpy as np\n",
    "\n",
    "from sklearn.preprocessing import StandardScaler, OneHotEncoder, OrdinalEncoder\n",
    "from sklearn.compose import ColumnTransformer\n",
    "from sklearn.pipeline import Pipeline\n",
    "from sklearn.impute import SimpleImputer\n",
    "from sklearn.linear_model import Ridge, LinearRegression\n",
    "from sklearn.model_selection import GridSearchCV\n",
    "\n",
    "import sys\n",
    "import os\n",
    "\n",
    "import sys\n",
    "import os\n",
    "sys.path.append(os.path.abspath(\"../..\"))\n",
    "\n",
    "from Preprocessing.imputation import get_imputation_maps, apply_imputation, ContextImputer\n",
    "from Preprocessing.preprocessing_pipeline_impute import preprocessing_pipeline\n",
    "from Preprocessing.preprocessing_pipeline_segment import preprocessing_pipeline_segment\n",
    "from Preprocessing.split import split_data\n",
    "from eval_call import evaluate_model"
   ]
  },
  {
   "cell_type": "code",
   "execution_count": null,
   "id": "547ae0d8",
   "metadata": {},
   "outputs": [
    {
     "name": "stdout",
     "output_type": "stream",
     "text": [
      "Bestes Alpha: 0.0012742749857031334\n",
      "Linear Regression (Ridge mit GridSearch) Performance Metrics:\n",
      "MAE: 5415.81\n",
      "MSE: 200421116.42\n",
      "RMSE: 14157.02\n",
      "R²: 0.82\n",
      "------------------------------\n"
     ]
    }
   ],
   "source": [
    "def main():\n",
    "    df = preprocessing_pipeline('../../data.csv') \n",
    "    X_train, X_test, y_train, y_test, X, y, categorical_features, numeric_features = split_data(df)\n",
    "\n",
    "    numeric_transformer = Pipeline(steps=[\n",
    "        ('imputer', SimpleImputer(strategy='median')),\n",
    "        ('scaler', StandardScaler())\n",
    "    ])\n",
    "\n",
    "    categorical_transformer = Pipeline(steps=[\n",
    "        ('imputer', SimpleImputer(strategy='most_frequent')),\n",
    "        ('onehot', OneHotEncoder(handle_unknown='ignore'))\n",
    "    ])\n",
    "\n",
    "    preprocessor = ColumnTransformer(\n",
    "        transformers=[\n",
    "            ('num', numeric_transformer, numeric_features),\n",
    "            ('cat', categorical_transformer, categorical_features)\n",
    "        ]\n",
    "    )\n",
    "\n",
    "    linear_regression_pipeline = Pipeline(steps=[\n",
    "        ('imp_fc', ContextImputer('fuel_consumption_l_100km')),\n",
    "        ('imp_ps', ContextImputer('power_ps')),\n",
    "        ('preprocessor', preprocessor),\n",
    "        ('model', Ridge())\n",
    "    ])\n",
    "\n",
    "    param_grid = {\n",
    "        'model__alpha': np.logspace(-4, 3, 20)\n",
    "    }\n",
    "\n",
    "    grid_search = GridSearchCV(linear_regression_pipeline, param_grid, cv=5, scoring='neg_mean_squared_error')\n",
    "    grid_search.fit(X_train, y_train)\n",
    "\n",
    "    best_model = grid_search.best_estimator_\n",
    "    y_pred_lr = best_model.predict(X_test)\n",
    "\n",
    "    print(\"Bestes Alpha:\", grid_search.best_params_['model__alpha'])\n",
    "    evaluate_model(y_test, y_pred_lr, \"Linear Regression (Ridge mit GridSearch)\")\n",
    "\n",
    "if __name__ == \"__main__\":\n",
    "    main()"
   ]
  }
 ],
 "metadata": {
  "kernelspec": {
   "display_name": "data_mining_project",
   "language": "python",
   "name": "python3"
  },
  "language_info": {
   "codemirror_mode": {
    "name": "ipython",
    "version": 3
   },
   "file_extension": ".py",
   "mimetype": "text/x-python",
   "name": "python",
   "nbconvert_exporter": "python",
   "pygments_lexer": "ipython3",
   "version": "3.11.11"
  }
 },
 "nbformat": 4,
 "nbformat_minor": 5
}
