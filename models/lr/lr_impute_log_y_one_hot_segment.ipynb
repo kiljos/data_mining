{
 "cells": [
  {
   "cell_type": "code",
   "execution_count": null,
   "id": "d30cae50",
   "metadata": {},
   "outputs": [],
   "source": [
    "import pandas as pd\n",
    "import numpy as np\n",
    "\n",
    "from sklearn.preprocessing import StandardScaler, OneHotEncoder, OrdinalEncoder\n",
    "from sklearn.compose import ColumnTransformer, TransformedTargetRegressor\n",
    "from sklearn.pipeline import Pipeline\n",
    "from sklearn.impute import SimpleImputer\n",
    "from sklearn.linear_model import LinearRegression\n",
    "\n",
    "\n",
    "import sys\n",
    "import os\n",
    "\n",
    "import sys\n",
    "import os\n",
    "sys.path.append(os.path.abspath(\"../..\"))\n",
    "\n",
    "from Preprocessing.imputation import get_imputation_maps, apply_imputation,ContextImputer\n",
    "from Preprocessing.preprocessing_pipeline_impute import preprocessing_pipeline\n",
    "from Preprocessing.preprocessing_pipeline_segment import preprocessing_pipeline_segment\n",
    "from Preprocessing.split import split_data\n",
    "\n",
    "from utils.scatter_plot import scatter_prediction\n",
    "from utils.eval_call import evaluate_model"
   ]
  },
  {
   "cell_type": "code",
   "execution_count": 2,
   "id": "c1fcb8f7",
   "metadata": {},
   "outputs": [
    {
     "name": "stdout",
     "output_type": "stream",
     "text": [
      "Linear Regression Performance Metrics:\n",
      "MAE: 3588.58\n",
      "MSE: 134626143.67\n",
      "RMSE: 11602.85\n",
      "R²: 0.88\n",
      "------------------------------\n"
     ]
    }
   ],
   "source": [
    "def main():\n",
    "    df = preprocessing_pipeline('../../data.csv') \n",
    "    df = preprocessing_pipeline_segment(df)\n",
    "    X_train, X_test, y_train, y_test , X,y, categorical_features , numeric_features = split_data(df)\n",
    "\n",
    "    # Preprocessing-Pipelines erstellen\n",
    "    numeric_transformer = Pipeline(steps=[\n",
    "        ('imputer', SimpleImputer(strategy='median')),\n",
    "        ('scaler', StandardScaler())\n",
    "    ])\n",
    "\n",
    "    categorical_transformer = Pipeline(steps=[\n",
    "        ('imputer', SimpleImputer(strategy='most_frequent')),\n",
    "        ('onehot', OneHotEncoder(handle_unknown='ignore'))\n",
    "    ])\n",
    "\n",
    "    preprocessor = ColumnTransformer(\n",
    "        transformers=[\n",
    "            ('num', numeric_transformer, numeric_features),\n",
    "            ('cat', categorical_transformer, categorical_features)\n",
    "        ])\n",
    "\n",
    "    # Modell + Transformation\n",
    "    transformed_model = TransformedTargetRegressor(\n",
    "        regressor=LinearRegression(),\n",
    "        func=np.log1p,\n",
    "        inverse_func=np.expm1\n",
    "    )\n",
    "\n",
    "    # Pipeline aufbauen\n",
    "    linear_regression_pipeline = Pipeline(steps=[\n",
    "        ('imp_fc', ContextImputer('fuel_consumption_l_100km')),\n",
    "        ('imp_ps', ContextImputer('power_ps')),\n",
    "        ('preprocessor', preprocessor),\n",
    "        ('model', transformed_model)\n",
    "    ])\n",
    "\n",
    "\n",
    "    # Modell trainieren\n",
    "    linear_regression_pipeline.fit(X_train, y_train)\n",
    "\n",
    "    # Vorhersagen treffen\n",
    "    y_pred_lr = linear_regression_pipeline.predict(X_test)\n",
    "\n",
    "\n",
    "\n",
    "    evaluate_model(y_test, y_pred_lr, \"Linear Regression\")\n",
    "\n",
    "\n",
    "\n",
    "if __name__ == \"__main__\":\n",
    "    main()"
   ]
  }
 ],
 "metadata": {
  "kernelspec": {
   "display_name": "data_mining_project",
   "language": "python",
   "name": "python3"
  },
  "language_info": {
   "codemirror_mode": {
    "name": "ipython",
    "version": 3
   },
   "file_extension": ".py",
   "mimetype": "text/x-python",
   "name": "python",
   "nbconvert_exporter": "python",
   "pygments_lexer": "ipython3",
   "version": "3.11.11"
  }
 },
 "nbformat": 4,
 "nbformat_minor": 5
}
