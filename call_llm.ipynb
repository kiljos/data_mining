{
 "cells": [
  {
   "cell_type": "code",
   "execution_count": 1,
   "id": "b48ac7d1",
   "metadata": {},
   "outputs": [],
   "source": [
    "from dotenv import load_dotenv\n",
    "import os\n",
    "\n",
    "from Preprocessing.preprocessing_pipeline_initial import preprocessing_pipeline\n",
    "import matplotlib.pylab as plt\n",
    "import seaborn as sns\n",
    "plt.style.use('ggplot')\n",
    "\n",
    "import concurrent.futures\n",
    "import functools\n",
    "\n",
    "\n",
    "# LangChain-spezifische Imports\n",
    "from langchain_google_genai import ChatGoogleGenerativeAI\n",
    "from langchain_core.prompts import ChatPromptTemplate\n",
    "from langchain_core.output_parsers import StrOutputParser\n",
    "\n",
    "load_dotenv()  # lädt .env automatisch\n",
    "os.environ[\"GOOGLE_API_KEY\"] = os.getenv(\"GOOGLE_API_KEY\")\n",
    "\n"
   ]
  },
  {
   "cell_type": "code",
   "execution_count": 2,
   "id": "e972e0b7",
   "metadata": {},
   "outputs": [],
   "source": [
    "segments = [\n",
    "    \"Kleinwagen\", \"Kompaktklasse\", \"Mittelklasse\", \"Obere Mittelklasse\",\n",
    "    \"Luxusklasse\", \"SUV\", \"Van\", \"Sportwagen\"\n",
    "]\n",
    "\n",
    "new_system_prompt = f'''Du bist ein Experte für Automobilklassifikation in Deutschland. Deine Aufgabe ist es, Automodelle (inkl. Marke) einem der folgenden {len(segments)} vordefinierten Fahrzeugsegmenten zuzuordnen.\n",
    "Bitte gib nur den Namen des passenden Segments zurück. Stelle sicher, dass deine Antwort EXAKT einem der unten genannten Segmente entspricht.\n",
    "\n",
    "Die Segmente und Beispiele sind:\n",
    "\n",
    "1.  Kleinwagen: Kleine Stadtflitzer und Superminis.\n",
    "     z.B.: VW Polo, Opel Corsa, Ford Fiesta, Renault Clio, Peugeot 208, Toyota Yaris, Skoda Fabia, Fiat 500, Mini Cooper, Hyundai i20, Seat Ibiza\n",
    "\n",
    "2.  Kompaktklasse: Die \"Golf-Klasse\", untere Mittelklasse.\n",
    "     z.B.: VW Golf, Audi A3, BMW 1er, Mercedes A-Klasse, Opel Astra, Ford Focus, Seat Leon, Skoda Octavia, Hyundai i30, Kia Ceed\n",
    "\n",
    "3.  Mittelklasse: Standard-Limousinen und Kombis für Familie/Beruf.\n",
    "     z.B.: VW Passat, Audi A4, BMW 3er, Mercedes C-Klasse, Skoda Superb, Ford Mondeo, Opel Insignia, Volvo S60/V60, Tesla Model 3\n",
    "\n",
    "4.  Obere Mittelklasse: Größere Geschäfts- und Reisefahrzeuge.\n",
    "     z.B.: Audi A6, BMW 5er, Mercedes E-Klasse, Volvo S90/V90, Jaguar XF, Lexus ES\n",
    "\n",
    "5.  Luxusklasse: Repräsentative Luxusfahrzeuge.\n",
    "     z.B.: Audi A8, BMW 7er, Mercedes S-Klasse, Porsche Panamera, Lexus LS, Bentley Continental GT, Tesla Model S\n",
    "\n",
    "6.  SUV: Sport Utility Vehicles, verschiedene Größen, oft mit erhöhter Sitzposition.\n",
    "    z.B.: VW Tiguan, VW Touareg, Audi Q3/Q5/Q7, BMW X1/X3/X5, Mercedes GLA/GLC/GLE, Ford Kuga, Skoda Kodiaq/Karoq, Porsche Macan/Cayenne, Volvo XC60, Dacia Duster\n",
    "\n",
    "7.  Van: Familienvans, Kleinbusse mit viel Platz.\n",
    "     z.B.: VW Touran, VW Sharan, VW Multivan/Caravelle, Mercedes V-Klasse/Vito Tourer, Ford Galaxy/S-Max, Opel Zafira, Seat Alhambra, Renault Espace\n",
    "\n",
    "8.  Sportwagen: Leistungsstarke Coupés, Roadster oder Sportlimousinen.\n",
    "     z.B.: Porsche 911, Porsche 718 Cayman/Boxster, Audi R8, Audi TT, BMW M2/M3/M4, Mercedes-AMG GT/SL, Ford Mustang, Jaguar F-Type, Nissan GT-R\n",
    "\n",
    "Gib mir als Output NUR das EINE passende Fahrzeugsegment aus der Liste {segments} zurück. KEINEN zusätzlichen Text.\n",
    "'''  \n",
    "\n",
    "def setup_llm_chain_with_parser():\n",
    "    \"\"\"Initialisiert LLM, Prompt und Chain\"\"\"\n",
    "    llm = ChatGoogleGenerativeAI(\n",
    "        model=\"gemini-2.0-flash-001\", #eventuell anderes modell mal testen?\n",
    "        temperature=0,\n",
    "        max_tokens=50,\n",
    "        timeout=None,\n",
    "        max_retries=2\n",
    "    )\n",
    "    prompt = ChatPromptTemplate.from_messages(\n",
    "        [\n",
    "            (\"system\", new_system_prompt),\n",
    "            (\"human\", \"{input}\"),\n",
    "        ]\n",
    "    )\n",
    "    output_parser = StrOutputParser()\n",
    "\n",
    "    chain = prompt | llm | output_parser\n",
    "    return chain\n",
    "\n",
    "\n",
    "def get_llm_segment(model_input_string, chain_instance):\n",
    "    \"\"\"\n",
    "    Ruft die LLM-Chain (mit StrOutputParser) für einen einzelnen Modell-String auf.\n",
    "    Gibt den String-Output des LLM direkt zurück (ohne Validierung).\n",
    "\n",
    "    Args:\n",
    "        model_input_string: Der Input für das LLM (Format \"Marke Modell\").\n",
    "        chain_instance: Die vorkonfigurierte LangChain-Chain (inkl. Parser).\n",
    "\n",
    "    Returns:\n",
    "        Die String-Antwort des LLM oder eine Fehlermeldung bei API-Fehler.\n",
    "    \"\"\"\n",
    "    try:\n",
    "        segment_output = chain_instance.invoke({\"input\": model_input_string}) # rufe llm mit der chain und dem model als input auf, speicher output\n",
    "        return segment_output.strip()\n",
    "\n",
    "    except Exception as e:\n",
    "        print(f\"Error calling LLM for '{model_input_string}': {e}\")\n",
    "        return f\"Error: API Call Failed - {e}\"\n",
    "\n",
    "def run_llm_classification_parallel(model_strings_list, chain_to_use, max_workers=5):\n",
    "    \"\"\"\n",
    "    Nutzt ThreadPoolExecutor, um get_llm_segment parallel aufzurufen.\n",
    "\n",
    "    Args:\n",
    "        model_strings_list: Liste von Strings (Format \"Marke Modell\").\n",
    "        chain_to_use: Die vorkonfigurierte LangChain-Chain (inkl. Parser).\n",
    "        max_workers: Maximale Anzahl paralleler Threads.\n",
    "\n",
    "    Returns:\n",
    "        Ein Dictionary, das Input-Strings auf Ergebnisse (LLM-Output-String oder Fehler) abbildet.\n",
    "    \"\"\"\n",
    "    results = {}\n",
    "    # functools.partial bindet die chain_to_use an die neue Funktion get_llm_segment\n",
    "    func_to_call = functools.partial(get_llm_segment, chain_instance=chain_to_use)\n",
    "\n",
    "    with concurrent.futures.ThreadPoolExecutor(max_workers=max_workers) as executor:\n",
    "        future_to_model = {executor.submit(func_to_call, model_str): model_str for model_str in model_strings_list}\n",
    "\n",
    "        for future in concurrent.futures.as_completed(future_to_model):\n",
    "            model_str = future_to_model[future]\n",
    "            try:\n",
    "                result_segment = future.result()\n",
    "                results[model_str] = result_segment\n",
    "            except Exception as exc:\n",
    "                print(f'Model {model_str} generated an exception during result retrieval: {exc}')\n",
    "                results[model_str] = f\"Error: Exception - {exc}\"\n",
    "    return results"
   ]
  },
  {
   "cell_type": "code",
   "execution_count": 3,
   "id": "8f96b542",
   "metadata": {},
   "outputs": [],
   "source": [
    "df = preprocessing_pipeline()"
   ]
  },
  {
   "cell_type": "code",
   "execution_count": 4,
   "id": "53eeab20",
   "metadata": {},
   "outputs": [
    {
     "name": "stdout",
     "output_type": "stream",
     "text": [
      "Setting up LLM chain with parser...\n",
      "LLM chain ready.\n",
      "Starting parallel classification for 343 unique models...\n",
      "Parallel classification finished.\n"
     ]
    }
   ],
   "source": [
    "unique_model_brand_strings = list(df[['brand', 'model']].astype(str).apply(lambda x: f\"{x['brand']} {x['model']}\", axis=1).unique())\n",
    "\n",
    "\n",
    "print(\"Setting up LLM chain with parser...\")\n",
    "my_llm_chain_with_parser = setup_llm_chain_with_parser()\n",
    "print(\"LLM chain ready.\")\n",
    "\n",
    "print(f\"Starting parallel classification for {len(unique_model_brand_strings)} unique models...\")\n",
    "classification_results = run_llm_classification_parallel(\n",
    "    model_strings_list=unique_model_brand_strings,\n",
    "    chain_to_use=my_llm_chain_with_parser,\n",
    "    max_workers=10 # bei schlechter Laufzeit anpassen\n",
    ")\n",
    "print(\"Parallel classification finished.\")\n",
    "    \n",
    "df['segment'] = df.apply(lambda x: classification_results.get(f\"{x['brand']} {x['model']}\", \"Error: Mapping Failed\"), axis=1)"
   ]
  },
  {
   "cell_type": "code",
   "execution_count": 5,
   "id": "8ae9432c",
   "metadata": {},
   "outputs": [
    {
     "data": {
      "text/plain": [
       "segment\n",
       "SUV                   45084\n",
       "Kompaktklasse         37588\n",
       "Kleinwagen            30699\n",
       "Mittelklasse          21343\n",
       "Van                   17531\n",
       "Obere Mittelklasse     8862\n",
       "Sportwagen             4340\n",
       "Luxusklasse            1010\n",
       "Name: count, dtype: int64"
      ]
     },
     "execution_count": 5,
     "metadata": {},
     "output_type": "execute_result"
    }
   ],
   "source": [
    "df['segment'].value_counts()"
   ]
  },
  {
   "cell_type": "code",
   "execution_count": 6,
   "id": "70332db7",
   "metadata": {},
   "outputs": [
    {
     "data": {
      "image/png": "[encoded data removed]",
      "text/plain": [
       "<Figure size 1000x600 with 1 Axes>"
      ]
     },
     "metadata": {},
     "output_type": "display_data"
    }
   ],
   "source": [
    "plt.figure(figsize=(10, 6))\n",
    "sns.boxplot(data=df, x='segment', y='price_in_euro')\n",
    "\n",
    "plt.title(\"Boxplot Segment vs Price\")\n",
    "plt.xlabel(\"Segment\")\n",
    "plt.xticks(rotation = 70)\n",
    "plt.ylabel(\"Price\")\n",
    "plt.tight_layout()\n",
    "plt.show()"
   ]
  },
  {
   "cell_type": "code",
   "execution_count": 31,
   "id": "a450a235",
   "metadata": {},
   "outputs": [
    {
     "data": {
      "text/html": [
       "<div>\n",
       "<style scoped>\n",
       "    .dataframe tbody tr th:only-of-type {\n",
       "        vertical-align: middle;\n",
       "    }\n",
       "\n",
       "    .dataframe tbody tr th {\n",
       "        vertical-align: top;\n",
       "    }\n",
       "\n",
       "    .dataframe thead th {\n",
       "        text-align: right;\n",
       "    }\n",
       "</style>\n",
       "<table border=\"1\" class=\"dataframe\">\n",
       "  <thead>\n",
       "    <tr style=\"text-align: right;\">\n",
       "      <th></th>\n",
       "      <th>brand</th>\n",
       "      <th>model</th>\n",
       "      <th>segment</th>\n",
       "    </tr>\n",
       "  </thead>\n",
       "  <tbody>\n",
       "    <tr>\n",
       "      <th>322</th>\n",
       "      <td>alfa-romeo</td>\n",
       "      <td>Alfa Romeo Giulietta</td>\n",
       "      <td>Kompaktklasse</td>\n",
       "    </tr>\n",
       "    <tr>\n",
       "      <th>323</th>\n",
       "      <td>alfa-romeo</td>\n",
       "      <td>Alfa Romeo Giulietta</td>\n",
       "      <td>Kompaktklasse</td>\n",
       "    </tr>\n",
       "    <tr>\n",
       "      <th>325</th>\n",
       "      <td>alfa-romeo</td>\n",
       "      <td>Alfa Romeo Giulietta</td>\n",
       "      <td>Kompaktklasse</td>\n",
       "    </tr>\n",
       "    <tr>\n",
       "      <th>326</th>\n",
       "      <td>alfa-romeo</td>\n",
       "      <td>Alfa Romeo Giulietta</td>\n",
       "      <td>Kompaktklasse</td>\n",
       "    </tr>\n",
       "    <tr>\n",
       "      <th>330</th>\n",
       "      <td>alfa-romeo</td>\n",
       "      <td>Alfa Romeo Giulietta</td>\n",
       "      <td>Kompaktklasse</td>\n",
       "    </tr>\n",
       "    <tr>\n",
       "      <th>...</th>\n",
       "      <td>...</td>\n",
       "      <td>...</td>\n",
       "      <td>...</td>\n",
       "    </tr>\n",
       "    <tr>\n",
       "      <th>222885</th>\n",
       "      <td>toyota</td>\n",
       "      <td>Toyota Aygo X</td>\n",
       "      <td>Kleinwagen</td>\n",
       "    </tr>\n",
       "    <tr>\n",
       "      <th>222888</th>\n",
       "      <td>toyota</td>\n",
       "      <td>Toyota Proace</td>\n",
       "      <td>Van</td>\n",
       "    </tr>\n",
       "    <tr>\n",
       "      <th>222889</th>\n",
       "      <td>toyota</td>\n",
       "      <td>Toyota Aygo</td>\n",
       "      <td>Kleinwagen</td>\n",
       "    </tr>\n",
       "    <tr>\n",
       "      <th>222892</th>\n",
       "      <td>volkswagen</td>\n",
       "      <td>Volkswagen T6 California</td>\n",
       "      <td>Van</td>\n",
       "    </tr>\n",
       "    <tr>\n",
       "      <th>222896</th>\n",
       "      <td>volkswagen</td>\n",
       "      <td>Volkswagen Touran</td>\n",
       "      <td>Van</td>\n",
       "    </tr>\n",
       "  </tbody>\n",
       "</table>\n",
       "<p>166457 rows × 3 columns</p>\n",
       "</div>"
      ],
      "text/plain": [
       "             brand                     model        segment\n",
       "322     alfa-romeo      Alfa Romeo Giulietta  Kompaktklasse\n",
       "323     alfa-romeo      Alfa Romeo Giulietta  Kompaktklasse\n",
       "325     alfa-romeo      Alfa Romeo Giulietta  Kompaktklasse\n",
       "326     alfa-romeo      Alfa Romeo Giulietta  Kompaktklasse\n",
       "330     alfa-romeo      Alfa Romeo Giulietta  Kompaktklasse\n",
       "...            ...                       ...            ...\n",
       "222885      toyota             Toyota Aygo X     Kleinwagen\n",
       "222888      toyota             Toyota Proace            Van\n",
       "222889      toyota               Toyota Aygo     Kleinwagen\n",
       "222892  volkswagen  Volkswagen T6 California            Van\n",
       "222896  volkswagen         Volkswagen Touran            Van\n",
       "\n",
       "[166457 rows x 3 columns]"
      ]
     },
     "execution_count": 31,
     "metadata": {},
     "output_type": "execute_result"
    }
   ],
   "source": [
    "df[['brand', 'model', 'segment']]"
   ]
  },
  {
   "cell_type": "code",
   "execution_count": 7,
   "id": "fa1e3f52",
   "metadata": {},
   "outputs": [
    {
     "data": {
      "text/plain": [
       "brand       model             \n",
       "alfa-romeo  Alfa Romeo Giulia     1\n",
       "opel        Opel Mokka            1\n",
       "peugeot     Peugeot 108           1\n",
       "opel        Opel Zafira Tourer    1\n",
       "            Opel Zafira           1\n",
       "                                 ..\n",
       "jaguar      Jaguar XF             1\n",
       "            Jaguar XE             1\n",
       "            Jaguar F-Type         1\n",
       "            Jaguar F-Pace         1\n",
       "volvo       Volvo XC90            1\n",
       "Name: segment, Length: 343, dtype: int64"
      ]
     },
     "execution_count": 7,
     "metadata": {},
     "output_type": "execute_result"
    }
   ],
   "source": [
    "df.groupby(['brand', 'model'])['segment'].nunique().sort_values(ascending=False)"
   ]
  },
  {
   "cell_type": "code",
   "execution_count": 33,
   "id": "897b1271",
   "metadata": {},
   "outputs": [],
   "source": [
    "df_export = df[['brand', 'model', 'segment']]\n",
    "df_export = df_export.drop_duplicates()"
   ]
  },
  {
   "cell_type": "code",
   "execution_count": 34,
   "id": "f80abb7d",
   "metadata": {},
   "outputs": [],
   "source": [
    "df_export.to_csv('df_mit_segment.csv', index= False)"
   ]
  }
 ],
 "metadata": {
  "kernelspec": {
   "display_name": "data_mining_project",
   "language": "python",
   "name": "python3"
  },
  "language_info": {
   "codemirror_mode": {
    "name": "ipython",
    "version": 3
   },
   "file_extension": ".py",
   "mimetype": "text/x-python",
   "name": "python",
   "nbconvert_exporter": "python",
   "pygments_lexer": "ipython3",
   "version": "3.11.11"
  }
 },
 "nbformat": 4,
 "nbformat_minor": 5
}
