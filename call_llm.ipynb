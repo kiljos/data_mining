{
 "cells": [
  {
   "cell_type": "code",
   "execution_count": 1,
   "id": "b48ac7d1",
   "metadata": {},
   "outputs": [],
   "source": [
    "from dotenv import load_dotenv\n",
    "import os\n",
    "import time\n",
    "from langchain_google_genai import ChatGoogleGenerativeAI\n",
    "from langchain_core.prompts import ChatPromptTemplate\n",
    "import pandas as pd\n",
    "from matplotlib import pyplot as plt\n",
    "import numpy as np \n",
    "\n",
    "\n",
    "load_dotenv()  # lädt .env automatisch\n",
    "os.environ[\"GOOGLE_API_KEY\"] = os.getenv(\"GOOGLE_API_KEY\")\n",
    "\n"
   ]
  },
  {
   "cell_type": "code",
   "execution_count": null,
   "id": "2b673c2c",
   "metadata": {},
   "outputs": [],
   "source": [
    "def call_llm(text):\n",
    "    # Diese Funktion nutzt die API von Google um sich gegen das LLM zu schalten. Prompt etc. ist unten zu sehen\n",
    "\n",
    "    llm = ChatGoogleGenerativeAI(\n",
    "    model=\"gemini-2.0-flash-001\",\n",
    "    temperature=0,\n",
    "    max_tokens=None,\n",
    "    timeout=None,\n",
    "    max_retries=2\n",
    "    )\n",
    "\n",
    "    prompt = ChatPromptTemplate.from_messages(\n",
    "        [\n",
    "            (\n",
    "                \"system\",\n",
    "                '''Du bist ein Experte für Automobilklassifikation. Deine Aufgabe ist es, Automodelle basierend auf ihrem Namen einem von fünf vordefinierten Fahrzeugsegmenten zuzuordnen. Bitte gib nur den Namen des passenden Segments zurück.\n",
    "\n",
    "                    Die Segmente sind:\n",
    "\n",
    "                    1. Kleinwagen – kleine Stadtautos, z.B. VW Up!, Renault Clio, Fiat Panda\n",
    "                    2. Mittelklasse – normale Alltagsautos, z.B. VW Golf, Audi A4, BMW 3er\n",
    "                    3. Geländewagen – große Fahrzeuge mit viel Platz, z.B. BMW X3, VW Tiguan, Ford Kuga, VW Multivan\n",
    "                    4. Sportwagen – sportliche Fahrzeuge mit viel PS, z.B. Porsche 911, Audi R8, BMW M4\n",
    "                    5. Luxusklasse – hochwertige Fahrzeuge mit Premiumausstattung, z.B. BMW 7er, Mercedes S-Klasse, Tesla Model S\n",
    "\n",
    "                    Beispiele:\n",
    "                    \n",
    "                    Input: smart forTwo\n",
    "                    Output: Kleinwagen\n",
    "\n",
    "                    Input: Volkswagen Golf  \n",
    "                    Output: Mittelklasse\n",
    "\n",
    "                    Input: BMW X5  \n",
    "                    Output: Geländewagen\n",
    "\n",
    "                    Input: Porsche 911  \n",
    "                    Output: Sportwagen\n",
    "\n",
    "                    Input: Bentley Mulsanne\n",
    "                    Output: Luxusklasse\n",
    "\n",
    "                Gib mir als Output nur das Fahrzeugsegment aus.                             \n",
    "                ''',\n",
    "            ),\n",
    "            (\"human\", \"{input}\"),\n",
    "        ]\n",
    "    )\n",
    "\n",
    "    chain = prompt | llm\n",
    "    res = chain.invoke(\n",
    "        {\n",
    "            \"input\": text\n",
    "        }\n",
    "    )\n",
    "\n",
    "    return res.content\n",
    "\n",
    "\n",
    "def use_llm_on_model(model_list):\n",
    "    # Diese Funktion ruft die call_llm Funktion auf, um der Spalte model das Fahrzeugsegment zuzuordnen\n",
    "\n",
    "    result = {}\n",
    "    counter = 0\n",
    "    limit_per_minute = 15 # brauchen diesen Timer um nicht zu viele Anfragen zu stellen (free sind 15 Anfragen/Min)\n",
    "\n",
    "    for idx, model in enumerate(model_list, start=1):\n",
    "        result[model] = call_llm(model)\n",
    "        counter += 1\n",
    "\n",
    "        # Warten, wenn das Limit erreicht ist\n",
    "        if counter % limit_per_minute == 0:\n",
    "            print(f\"{counter} Anfragen gestellt – warte 60 Sekunden, um Rate Limit einzuhalten...\")\n",
    "            time.sleep(60)\n",
    "\n",
    "    print(\"Fertig!\")\n",
    "    return result"
   ]
  },
  {
   "cell_type": "code",
   "execution_count": 4,
   "id": "b6c10920",
   "metadata": {},
   "outputs": [],
   "source": [
    "df = pd.read_csv('data.csv')\n",
    "df = df.iloc[:, 1:] "
   ]
  },
  {
   "cell_type": "code",
   "execution_count": null,
   "id": "3becf6da",
   "metadata": {},
   "outputs": [],
   "source": [
    "model_list = df['model'].unique().tolist()\n",
    "result = use_llm_on_model(model_list)\n",
    "df[\"segment\"] = df[\"model\"].map(result).fillna(\"unknown\")"
   ]
  },
  {
   "cell_type": "code",
   "execution_count": null,
   "id": "21f74b4c",
   "metadata": {},
   "outputs": [],
   "source": [
    "df.to_csv('df_mit_segment.csv', index=False)"
   ]
  }
 ],
 "metadata": {
  "kernelspec": {
   "display_name": "data_mining_project",
   "language": "python",
   "name": "python3"
  },
  "language_info": {
   "codemirror_mode": {
    "name": "ipython",
    "version": 3
   },
   "file_extension": ".py",
   "mimetype": "text/x-python",
   "name": "python",
   "nbconvert_exporter": "python",
   "pygments_lexer": "ipython3",
   "version": "3.11.11"
  }
 },
 "nbformat": 4,
 "nbformat_minor": 5
}
