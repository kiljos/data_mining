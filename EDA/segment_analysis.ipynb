{
 "cells": [
  {
   "cell_type": "code",
   "execution_count": 1,
   "id": "7747995b",
   "metadata": {},
   "outputs": [],
   "source": [
    "import pandas as pd"
   ]
  },
  {
   "cell_type": "code",
   "execution_count": 2,
   "id": "0b10596c",
   "metadata": {},
   "outputs": [],
   "source": [
    "df = pd.read_csv('../data.csv')\n",
    "\n",
    "yearsToFilter = list(df['year'].unique()[:29])  # wegen Scraping Fehler\n",
    "filt = [val in yearsToFilter for val in df['year']]\n",
    "df = df[filt]\n",
    "\n",
    "dups = df[df.duplicated(subset= ['brand', 'model', 'color', 'registration_date', 'year',\n",
    "       'price_in_euro', 'power_kw', 'power_ps', 'transmission_type',\n",
    "       'fuel_type', 'fuel_consumption_l_100km', 'fuel_consumption_g_km',\n",
    "       'mileage_in_km', 'offer_description'])]"
   ]
  },
  {
   "cell_type": "code",
   "execution_count": 3,
   "id": "c5494513",
   "metadata": {},
   "outputs": [],
   "source": [
    "segment_df = pd.read_csv('../df_mit_segment.csv')\n",
    "\n",
    "df = df.merge(segment_df[['model', 'segment']], on='model', how='left')"
   ]
  },
  {
   "cell_type": "code",
   "execution_count": 9,
   "id": "fdffed24",
   "metadata": {},
   "outputs": [],
   "source": [
    "subset = df[['model', 'segment', 'price_in_euro']].copy()"
   ]
  },
  {
   "cell_type": "code",
   "execution_count": 24,
   "id": "d3a5136a",
   "metadata": {},
   "outputs": [
    {
     "data": {
      "text/plain": [
       "segment\n",
       "SUV                   67110\n",
       "Kompaktklasse         52018\n",
       "Kleinwagen            47304\n",
       "Mittelklasse          30397\n",
       "Van                   26108\n",
       "Obere Mittelklasse    13577\n",
       "Sportwagen            10198\n",
       "Luxusklasse            3382\n",
       "Supersportwagen         786\n",
       "Name: count, dtype: int64"
      ]
     },
     "execution_count": 24,
     "metadata": {},
     "output_type": "execute_result"
    }
   ],
   "source": [
    "subset.segment.value_counts()"
   ]
  }
 ],
 "metadata": {
  "kernelspec": {
   "display_name": "data_mining_project",
   "language": "python",
   "name": "python3"
  },
  "language_info": {
   "codemirror_mode": {
    "name": "ipython",
    "version": 3
   },
   "file_extension": ".py",
   "mimetype": "text/x-python",
   "name": "python",
   "nbconvert_exporter": "python",
   "pygments_lexer": "ipython3",
   "version": "3.11.11"
  }
 },
 "nbformat": 4,
 "nbformat_minor": 5
}
