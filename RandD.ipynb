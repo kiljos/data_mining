{
 "cells": [
  {
   "cell_type": "code",
   "execution_count": 2,
   "metadata": {},
   "outputs": [
    {
     "name": "stdout",
     "output_type": "stream",
     "text": [
      "Dataset-Größe vor dem Entfernen Werten: 251079\n",
      "Dataset-Größe nach dem Entfernen Werten: 223188\n",
      "Dataset-Größe vor dem droppen von e car: 223188\n",
      "Dataset-Größe nach dem droppen von e car: 210255\n",
      "Werte in der year-Spalte vor dem Filtern: ['1995' '1996' '1997' '1998' '1999' '2000' '2001' '2002' '2003' '2004'\n",
      " '2005' '2006' '2007' '2008' '2009' '2010' '2011' '2012' '2013' '2014'\n",
      " '2015' '2016' '2017' '2018' '2019' '2020' '2021' '2022' '2023']\n",
      "Werte nach dem Filtern: ['1995' '1996' '1997' '1998' '1999' '2000' '2001' '2002' '2003' '2004'\n",
      " '2005' '2006' '2007' '2008' '2009' '2010' '2011' '2012' '2013' '2014'\n",
      " '2015' '2016' '2017' '2018' '2019' '2020' '2021' '2022' '2023']\n"
     ]
    }
   ],
   "source": [
    "from preprocessing import preprocessing_pipeline\n",
    "\n",
    "X_train, X_test, y_train, y_test,X, categorical_features, numeric_features = preprocessing_pipeline()\n"
   ]
  },
  {
   "cell_type": "code",
   "execution_count": 3,
   "metadata": {},
   "outputs": [
    {
     "data": {
      "text/plain": [
       "['brand', 'model', 'color', 'power_ps', 'transmission_type', 'fuel_type']"
      ]
     },
     "execution_count": 3,
     "metadata": {},
     "output_type": "execute_result"
    }
   ],
   "source": [
    "categorical_features"
   ]
  },
  {
   "cell_type": "code",
   "execution_count": 4,
   "metadata": {},
   "outputs": [
    {
     "data": {
      "text/plain": [
       "['year', 'fuel_consumption_l_100km']"
      ]
     },
     "execution_count": 4,
     "metadata": {},
     "output_type": "execute_result"
    }
   ],
   "source": [
    "numeric_features"
   ]
  },
  {
   "cell_type": "code",
   "execution_count": null,
   "metadata": {},
   "outputs": [],
   "source": []
  }
 ],
 "metadata": {
  "kernelspec": {
   "display_name": ".venv",
   "language": "python",
   "name": "python3"
  },
  "language_info": {
   "codemirror_mode": {
    "name": "ipython",
    "version": 3
   },
   "file_extension": ".py",
   "mimetype": "text/x-python",
   "name": "python",
   "nbconvert_exporter": "python",
   "pygments_lexer": "ipython3",
   "version": "3.11.9"
  }
 },
 "nbformat": 4,
 "nbformat_minor": 2
}
